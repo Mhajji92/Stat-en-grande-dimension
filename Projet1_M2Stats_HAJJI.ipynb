{
 "cells": [
  {
   "cell_type": "markdown",
   "metadata": {},
   "source": [
    "# Statistiques en grande dimension"
   ]
  },
  {
   "cell_type": "markdown",
   "metadata": {},
   "source": [
    "## Projet 1 : Estimation de densité"
   ]
  },
  {
   "cell_type": "markdown",
   "metadata": {},
   "source": [
    "Hajji Mohammed"
   ]
  },
  {
   "cell_type": "code",
   "execution_count": 2,
   "metadata": {},
   "outputs": [],
   "source": [
    "from numpy import *\n",
    "from math import *\n",
    "import scipy.stats as stat\n",
    "import scipy.integrate as intgr\n",
    "import matplotlib.pyplot as plt\n",
    "import csv\n",
    "#from random import random"
   ]
  },
  {
   "cell_type": "markdown",
   "metadata": {},
   "source": [
    "## Exercice 1"
   ]
  },
  {
   "cell_type": "markdown",
   "metadata": {},
   "source": [
    "#### 1.a$)$ Générer un echantillon de taille 50 d'une gaussienne $\\mathcal{N}$(-1,5;2)"
   ]
  },
  {
   "cell_type": "code",
   "execution_count": 3,
   "metadata": {
    "scrolled": true
   },
   "outputs": [],
   "source": [
    "mu = -1.5\n",
    "sigma = 2.0\n",
    "X1=random.normal(mu,sigma,50)"
   ]
  },
  {
   "cell_type": "markdown",
   "metadata": {},
   "source": [
    "#### 1.b$)$ Générer un echantillon de taille 50 d'une loi uniforme $\\mathcal{U}$[0,1]}"
   ]
  },
  {
   "cell_type": "code",
   "execution_count": 4,
   "metadata": {},
   "outputs": [],
   "source": [
    "X2=random.uniform(0,1,50)"
   ]
  },
  {
   "cell_type": "markdown",
   "metadata": {},
   "source": [
    "#### 1.c$)$ Concaténation de X1 et X2"
   ]
  },
  {
   "cell_type": "code",
   "execution_count": 5,
   "metadata": {},
   "outputs": [],
   "source": [
    "X=concatenate((X1,X2),axis=None)"
   ]
  },
  {
   "cell_type": "markdown",
   "metadata": {},
   "source": [
    "$\\textbf{(2.a) Construction de l'histogramme de X}$"
   ]
  },
  {
   "cell_type": "code",
   "execution_count": 6,
   "metadata": {},
   "outputs": [
    {
     "data": {
      "image/png": "[encoded data removed]",
      "text/plain": [
       "<Figure size 432x288 with 1 Axes>"
      ]
     },
     "metadata": {
      "needs_background": "light"
     },
     "output_type": "display_data"
    }
   ],
   "source": [
    "plt.hist(X,color='yellow',edgecolor='black')\n",
    "plt.show()"
   ]
  },
  {
   "cell_type": "markdown",
   "metadata": {},
   "source": [
    "$\\textbf{(2.b)}$"
   ]
  },
  {
   "cell_type": "markdown",
   "metadata": {},
   "source": [
    "###### -Construction de $\\hat{f},$  l'estimateur à noyau de $f$ en utilisant le noyau rectangulaire."
   ]
  },
  {
   "cell_type": "code",
   "execution_count": 7,
   "metadata": {},
   "outputs": [],
   "source": [
    "def frectchap(X,z,h):\n",
    "    n=size(X) # taille de X\n",
    "    result=0 # on initialise le calcul \n",
    "    for i in range(n):\n",
    "        result=1/(n*h)*(1/2)*(((X[i]-z)/h)<=1 and ((X[i]-z)/h)>=-1)+result\n",
    "  # on somme n fois selon les valeurs de X\n",
    "    return(result)  "
   ]
  },
  {
   "cell_type": "code",
   "execution_count": 8,
   "metadata": {},
   "outputs": [],
   "source": [
    "minX=amin(X) # minimum du vecteur X\n",
    "maxX=amax(X) # minimum du vecteur X\n",
    "taillex=300  \n",
    "x=linspace(minX,maxX,taillex) # on subdivise X en 100 points\n",
    "h=0.5 # on choisit une fenêtre"
   ]
  },
  {
   "cell_type": "markdown",
   "metadata": {},
   "source": [
    "  Calcul de $\\hat{f}$$(x)$ pour 100 points compris entre $min(X)$ et $max(X)$ de pas uniforme, en utilisant le noyau rectangulaire. "
   ]
  },
  {
   "cell_type": "code",
   "execution_count": 9,
   "metadata": {},
   "outputs": [],
   "source": [
    "frect=[frectchap(X,i,h) for i in x]  "
   ]
  },
  {
   "cell_type": "markdown",
   "metadata": {},
   "source": [
    "* Courbe de $\\hat{f}$ en utilisant le noyau rectangulaire"
   ]
  },
  {
   "cell_type": "code",
   "execution_count": 10,
   "metadata": {},
   "outputs": [
    {
     "data": {
      "image/png": "[encoded data removed]",
      "text/plain": [
       "<Figure size 432x288 with 1 Axes>"
      ]
     },
     "metadata": {
      "needs_background": "light"
     },
     "output_type": "display_data"
    }
   ],
   "source": [
    "plt.plot(x,frect)\n",
    "plt.show()"
   ]
  },
  {
   "cell_type": "code",
   "execution_count": 11,
   "metadata": {},
   "outputs": [],
   "source": [
    "#def fgausschap(X,z,h):\n",
    " #   n=size(X)\n",
    "  #  result=0\n",
    "   # for i in range(n):\n",
    "    #        result=1/(n*h*sqrt(2*pi))*exp(-((X[i]-z)/h)**2/2)+result\n",
    "    #return(result)  "
   ]
  },
  {
   "cell_type": "markdown",
   "metadata": {},
   "source": [
    "#### -Construction de $\\hat{f},$ l'estimateur à noyau de $f$ en utilisant le noyau triangulaire."
   ]
  },
  {
   "cell_type": "code",
   "execution_count": 12,
   "metadata": {},
   "outputs": [],
   "source": [
    "def ftriangchap(X,z,h):\n",
    "    n=size(X) # taille de X\n",
    "    result=0 # on initialise le calcul \n",
    "    for i in range(n):\n",
    "        result=(1/(n*h))*(1-abs((X[i]-z)/h))*(abs((X[i]-z)/h)<=1)+result\n",
    "        # on somme n fois selon les valeurs de X\n",
    "    return(result)  "
   ]
  },
  {
   "cell_type": "code",
   "execution_count": 13,
   "metadata": {},
   "outputs": [],
   "source": [
    "h1=0.3"
   ]
  },
  {
   "cell_type": "markdown",
   "metadata": {},
   "source": [
    "  Calcul de $\\hat{f}$$(x)$  pour 100 points compris entre $min(X)$ et $max(X)$ de pas uniforme, en utilisant le noyau triagulaire. "
   ]
  },
  {
   "cell_type": "code",
   "execution_count": 14,
   "metadata": {},
   "outputs": [],
   "source": [
    "ftriang=[ftriangchap(X,i,h1) for i in x]"
   ]
  },
  {
   "cell_type": "markdown",
   "metadata": {},
   "source": [
    "* Courbe de $\\hat{f}$ en utilisant le noyau triangulaire"
   ]
  },
  {
   "cell_type": "code",
   "execution_count": 15,
   "metadata": {
    "scrolled": true
   },
   "outputs": [
    {
     "data": {
      "image/png": "[encoded data removed]",
      "text/plain": [
       "<Figure size 432x288 with 1 Axes>"
      ]
     },
     "metadata": {
      "needs_background": "light"
     },
     "output_type": "display_data"
    }
   ],
   "source": [
    "plt.plot(x,ftriang)\n",
    "plt.show()"
   ]
  },
  {
   "cell_type": "markdown",
   "metadata": {},
   "source": [
    "#### 2.c$)$ Méthode de la validation croisée"
   ]
  },
  {
   "cell_type": "code",
   "execution_count": 16,
   "metadata": {},
   "outputs": [],
   "source": [
    "def CVrect(h,X):\n",
    "    n=len(X) #taille de X\n",
    "    \n",
    "    frect=[frectchap(X,i,h) for i in x] # fchapeau de x \n",
    "    frectcar= [x*x for x in frect] ##carré de fchapeau de x\n",
    "    integfrectcar= trapz(frectcar,x) ##intégrale de f chapeau carré de x\n",
    "    deuxGchap=0 # initialisation du calcul\n",
    "    for i in range(n):\n",
    "        for j in range(n):\n",
    "            deuxGchap=deuxGchap+(1/(n*(n-1)*h))*((((X[j]-X[i])/h)<=1) and ((X[j]-X[i])/h)>=(-1) and (j!=i))\n",
    "            # on fait une \n",
    "            #double somme en evitant le cas j=i.\n",
    "    return(integfrectcar-deuxGchap) #correspond à J(h) vu en cours "
   ]
  },
  {
   "cell_type": "code",
   "execution_count": 17,
   "metadata": {},
   "outputs": [
    {
     "name": "stdout",
     "output_type": "stream",
     "text": [
      "Cv(h)= -0.24868216133550952  pour h= 0.05\n",
      "Cv(h)= -0.31123143227805555  pour h= 0.1\n",
      "Cv(h)= -0.3093277545845139  pour h= 0.15000000000000002\n",
      "Cv(h)= -0.2999394324566915  pour h= 0.2\n",
      "Cv(h)= -0.31256218537646724  pour h= 0.25\n",
      "Cv(h)= -0.3057404112562921  pour h= 0.3\n",
      "Cv(h)= -0.3150949382595186  pour h= 0.35000000000000003\n",
      "Cv(h)= -0.3103269225958797  pour h= 0.4\n",
      "Cv(h)= -0.31279801024290815  pour h= 0.45\n",
      "Cv(h)= -0.3027181113106826  pour h= 0.5\n",
      "Cv(h)= -0.3059845749279147  pour h= 0.55\n",
      "Cv(h)= -0.30648895834250384  pour h= 0.6000000000000001\n",
      "Cv(h)= -0.2984536641490381  pour h= 0.6500000000000001\n",
      "Cv(h)= -0.29158079963345684  pour h= 0.7000000000000001\n",
      "Cv(h)= -0.2815077437571426  pour h= 0.7500000000000001\n",
      "Cv(h)= -0.2759578904957716  pour h= 0.8\n",
      "Cv(h)= -0.27424165792451205  pour h= 0.8500000000000001\n",
      "Cv(h)= -0.269314645955703  pour h= 0.9000000000000001\n",
      "Cv(h)= -0.2604091607606898  pour h= 0.9500000000000001\n",
      "Cv(h)= -0.2500413502370772  pour h= 1.0\n",
      "Cv(h)= -0.24026822627292682  pour h= 1.05\n",
      "Cv(h)= -0.2329288110876436  pour h= 1.1\n",
      "Cv(h)= -0.2268859283207345  pour h= 1.1500000000000001\n",
      "Cv(h)= -0.221376207662206  pour h= 1.2000000000000002\n",
      "Cv(h)= -0.21472244627522463  pour h= 1.2500000000000002\n",
      "Cv(h)= -0.20850537654200124  pour h= 1.3\n",
      "Cv(h)= -0.2025449094787805  pour h= 1.35\n",
      "Cv(h)= -0.19863472251194414  pour h= 1.4000000000000001\n",
      "Cv(h)= -0.19579964272759617  pour h= 1.4500000000000002\n",
      "Cv(h)= -0.19258531473800775  pour h= 1.5000000000000002\n",
      "Cv(h)= -0.189755291952583  pour h= 1.55\n",
      "Cv(h)= -0.1867101300723289  pour h= 1.6\n",
      "Cv(h)= -0.18286018540196408  pour h= 1.6500000000000001\n",
      "Cv(h)= -0.17877691115378808  pour h= 1.7000000000000002\n",
      "Cv(h)= -0.17670954176042628  pour h= 1.7500000000000002\n",
      "Cv(h)= -0.17365195736092431  pour h= 1.8\n",
      "Cv(h)= -0.17013459226544847  pour h= 1.85\n",
      "Cv(h)= -0.16694742879085778  pour h= 1.9000000000000001\n",
      "Cv(h)= -0.16571423584879605  pour h= 1.9500000000000002\n",
      "h optimal= 0.35000000000000003\n"
     ]
    }
   ],
   "source": [
    "pash=0.05 # le pas de h\n",
    "h=arange(0+pash,2,pash)# intervalle de définition de h (les points que h peut prendre) \n",
    "tailleh=size(h) #nombre de points que h peut prendre\n",
    "hopt=0 # initialisation de hopt\n",
    "CVstock=zeros(tailleh)# initialisation du vecteur de stockage \n",
    "for i in range(tailleh):\n",
    "    CVstock[i]=CVrect(h[i],X) # calcul de cv(hi) (en respectant les notations du cours) pour chaque hi \n",
    "    #dans le vecteur h définie précedemment\n",
    "    print(\"Cv(h)=\",CVstock[i],\" pour h=\",h[i]) #affichage de cv(hi) pour chaque hi dans l'intrevalle h\n",
    "hopt=h[argmin(CVstock)] # valeur de hopt\n",
    "print(\"h optimal=\",hopt)# affichage de la valeur de hopt"
   ]
  },
  {
   "cell_type": "markdown",
   "metadata": {},
   "source": [
    "* $\\textbf{L'estimateur optimal (en utilisant le noyau rectangulaire) est donc:}$ "
   ]
  },
  {
   "cell_type": "code",
   "execution_count": 18,
   "metadata": {},
   "outputs": [],
   "source": [
    "frectopt=[frectchap(X,i,hopt) for i in x]"
   ]
  },
  {
   "cell_type": "markdown",
   "metadata": {},
   "source": [
    "* $\\textbf{Et sa courbe:}$"
   ]
  },
  {
   "cell_type": "code",
   "execution_count": 19,
   "metadata": {},
   "outputs": [
    {
     "data": {
      "image/png": "[encoded data removed]",
      "text/plain": [
       "<Figure size 432x288 with 1 Axes>"
      ]
     },
     "metadata": {
      "needs_background": "light"
     },
     "output_type": "display_data"
    }
   ],
   "source": [
    "plt.plot(x,frectopt)\n",
    "plt.show()"
   ]
  },
  {
   "cell_type": "code",
   "execution_count": 20,
   "metadata": {},
   "outputs": [],
   "source": [
    "def CVtriang(h):\n",
    "    n=len(X)\n",
    "    ftriang=[ftriangchap(X,i,h) for i in x]\n",
    "    ftriangcar= [x*x for x in ftriang] ##carré de fchapeau de x\n",
    "    integftriangcar= trapz(ftriangcar,x) ##intégrale de f chapeau carré x\n",
    "    deuxGchap1=0\n",
    "    for i in range(n):\n",
    "        for j in range(n):\n",
    "            deuxGchap1=deuxGchap1+(2/(n*(n-1)*h))*((1-abs(((X[j]-X[i])/h)))*(abs(((X[j]-X[i])/h))<=1) and (j!=i))\n",
    "    return(integftriangcar-deuxGchap1) #correspond à J(h) vu en cours "
   ]
  },
  {
   "cell_type": "code",
   "execution_count": 21,
   "metadata": {},
   "outputs": [
    {
     "name": "stdout",
     "output_type": "stream",
     "text": [
      "Cv(h)= -0.30912164554940724  pour h= 0.005\n",
      "Cv(h)= -0.7704704080616394  pour h= 0.01\n",
      "Cv(h)= -0.7876155414942292  pour h= 0.015\n",
      "Cv(h)= -0.9345603830475239  pour h= 0.02\n",
      "Cv(h)= -0.9985482901905768  pour h= 0.025\n",
      "Cv(h)= -1.0428298846619306  pour h= 0.030000000000000002\n",
      "Cv(h)= -0.9630115156638341  pour h= 0.034999999999999996\n",
      "Cv(h)= -0.9488251094253951  pour h= 0.04\n",
      "Cv(h)= -0.9048348476024808  pour h= 0.045\n",
      "Cv(h)= -0.9017209318894387  pour h= 0.049999999999999996\n",
      "Cv(h)= -0.9303271129179964  pour h= 0.055\n",
      "Cv(h)= -0.9076775263586703  pour h= 0.06\n",
      "Cv(h)= -0.939063080156975  pour h= 0.065\n",
      "Cv(h)= -0.9712703849686761  pour h= 0.07\n",
      "Cv(h)= -0.976661855001434  pour h= 0.07500000000000001\n",
      "Cv(h)= -0.9355559619409688  pour h= 0.08\n",
      "Cv(h)= -0.9510857330383875  pour h= 0.085\n",
      "Cv(h)= -0.9560999609390248  pour h= 0.09000000000000001\n",
      "Cv(h)= -0.9487490180933748  pour h= 0.095\n",
      "Cv(h)= -0.9548933965941844  pour h= 0.1\n",
      "Cv(h)= -0.9604004456902078  pour h= 0.10500000000000001\n",
      "Cv(h)= -0.9576485708070114  pour h= 0.11\n",
      "Cv(h)= -0.9760872120307491  pour h= 0.115\n",
      "Cv(h)= -0.979364762072086  pour h= 0.12000000000000001\n",
      "Cv(h)= -0.9761068914551855  pour h= 0.125\n",
      "Cv(h)= -0.9765902585631396  pour h= 0.13\n",
      "Cv(h)= -0.9713338476799488  pour h= 0.135\n",
      "Cv(h)= -0.960605747585364  pour h= 0.14\n",
      "Cv(h)= -0.9559468440707634  pour h= 0.14500000000000002\n",
      "Cv(h)= -0.9596183233066082  pour h= 0.15\n",
      "Cv(h)= -0.9369438157516925  pour h= 0.155\n",
      "Cv(h)= -0.9183503764232508  pour h= 0.16\n",
      "Cv(h)= -0.9377559131623365  pour h= 0.165\n",
      "Cv(h)= -0.9395316413073711  pour h= 0.17\n",
      "Cv(h)= -0.9342181326328954  pour h= 0.17500000000000002\n",
      "Cv(h)= -0.9335560978796036  pour h= 0.18000000000000002\n",
      "Cv(h)= -0.9328981117389796  pour h= 0.185\n",
      "Cv(h)= -0.9152428900518064  pour h= 0.19\n",
      "Cv(h)= -0.9068907990943231  pour h= 0.195\n",
      "Cv(h)= -0.9212350513642316  pour h= 0.2\n",
      "Cv(h)= -0.9211761750978467  pour h= 0.20500000000000002\n",
      "Cv(h)= -0.9114586944813388  pour h= 0.21000000000000002\n",
      "Cv(h)= -0.9227934140173529  pour h= 0.215\n",
      "Cv(h)= -0.9244112967317044  pour h= 0.22\n",
      "Cv(h)= -0.9277407969868292  pour h= 0.225\n",
      "Cv(h)= -0.9292689399782447  pour h= 0.23\n",
      "Cv(h)= -0.9342178356819075  pour h= 0.23500000000000001\n",
      "Cv(h)= -0.9322944105322223  pour h= 0.24000000000000002\n",
      "Cv(h)= -0.9337108728361208  pour h= 0.245\n",
      "Cv(h)= -0.9382623426898176  pour h= 0.25\n",
      "Cv(h)= -0.9347039268580546  pour h= 0.255\n",
      "Cv(h)= -0.9343852084534889  pour h= 0.26\n",
      "Cv(h)= -0.9326420720134112  pour h= 0.265\n",
      "Cv(h)= -0.9310065147981056  pour h= 0.27\n",
      "Cv(h)= -0.9280159077013856  pour h= 0.275\n",
      "Cv(h)= -0.9265461762510685  pour h= 0.28\n",
      "Cv(h)= -0.9208521146345465  pour h= 0.28500000000000003\n",
      "Cv(h)= -0.9237087287352672  pour h= 0.29000000000000004\n",
      "Cv(h)= -0.9168835704341807  pour h= 0.295\n",
      "Cv(h)= -0.9103563631528417  pour h= 0.3\n",
      "Cv(h)= -0.9040806314431823  pour h= 0.305\n",
      "Cv(h)= -0.9162968382601893  pour h= 0.31\n",
      "Cv(h)= -0.9191212733076828  pour h= 0.315\n",
      "Cv(h)= -0.9104811704115277  pour h= 0.32\n",
      "Cv(h)= -0.9108075387920506  pour h= 0.325\n",
      "Cv(h)= -0.9160295936400569  pour h= 0.33\n",
      "Cv(h)= -0.9211482423327787  pour h= 0.335\n",
      "Cv(h)= -0.9190193981998362  pour h= 0.34\n",
      "Cv(h)= -0.9216748019068773  pour h= 0.34500000000000003\n",
      "Cv(h)= -0.9173072477488469  pour h= 0.35000000000000003\n",
      "Cv(h)= -0.917612951111054  pour h= 0.35500000000000004\n",
      "Cv(h)= -0.9167909894138867  pour h= 0.36\n",
      "Cv(h)= -0.9137912766897183  pour h= 0.365\n",
      "Cv(h)= -0.9098203436524761  pour h= 0.37\n",
      "Cv(h)= -0.9070617088429491  pour h= 0.375\n",
      "Cv(h)= -0.9044116879054074  pour h= 0.38\n",
      "Cv(h)= -0.9039142984129814  pour h= 0.385\n",
      "Cv(h)= -0.90032517523259  pour h= 0.39\n",
      "Cv(h)= -0.8947874110787174  pour h= 0.395\n",
      "h optimal= 0.030000000000000002\n"
     ]
    }
   ],
   "source": [
    "pash=0.005 # Pas de h\n",
    "h=arange(0+pash,0.4,pash) # intervalle de définition de h (les points que h peut prendre)\n",
    "tailleh=size(h)# #nombre de points que h peut prendre\n",
    "hopt=0\n",
    "CVstock1=zeros(tailleh) # initialisation du vecteur de stockage\n",
    "for i in range(tailleh):\n",
    "    CVstock1[i]=CVtriang(h[i])\n",
    "    print(\"Cv(h)=\",CVstock1[i],\" pour h=\",h[i])#affichage de cv(hi) pour chaque hi dans l'intrevalle h\n",
    "hopt=h[argmin(CVstock1)]# valeur de hopt\n",
    "print(\"h optimal=\",hopt) # affichage de la valeur de hopt"
   ]
  },
  {
   "cell_type": "markdown",
   "metadata": {},
   "source": [
    "* $\\textbf{l'estimateur optimal (en utilisant le noyau triangulaire) est donc:}$ "
   ]
  },
  {
   "cell_type": "code",
   "execution_count": 22,
   "metadata": {},
   "outputs": [],
   "source": [
    "ftriangopt=[ftriangchap(X,i,hopt) for i in x]"
   ]
  },
  {
   "cell_type": "markdown",
   "metadata": {},
   "source": [
    "* $\\textbf{Et sa courbe:}$"
   ]
  },
  {
   "cell_type": "code",
   "execution_count": 23,
   "metadata": {},
   "outputs": [
    {
     "data": {
      "image/png": "[encoded data removed]",
      "text/plain": [
       "<Figure size 432x288 with 1 Axes>"
      ]
     },
     "metadata": {
      "needs_background": "light"
     },
     "output_type": "display_data"
    }
   ],
   "source": [
    "plt.plot(x,ftriangopt)\n",
    "plt.show()"
   ]
  },
  {
   "cell_type": "code",
   "execution_count": 24,
   "metadata": {},
   "outputs": [],
   "source": [
    "##def CVgauss(h,X):\n",
    "    #n=len(X)\n",
    "    #fgauss=[fgausschap(X,i,h) for i in x]\n",
    "    #fgausscar= [x*x for x in fgauss] ##carré de fchapeau\n",
    "    #integfgausscar= trapz(fgausscar,x) ##intégrale de f chapeau carré\n",
    "    #deuxGchap2=0\n",
    "    #for i in range(n):\n",
    "       # for j in range(n):\n",
    "           # deuxGchap2=deuxGchap2+(2/(n*(n-1)*sqrt(2*pi)*h))*(exp(-(((X[j]-X[i])/h)**2)/2) and (j!=i))\n",
    "    #return(integfgausscar-deuxGchap2)"
   ]
  },
  {
   "cell_type": "code",
   "execution_count": 25,
   "metadata": {},
   "outputs": [],
   "source": [
    "#pash=0.001\n",
    "#h=arange(0+pash,0.3,pash)\n",
    "#tailleh=size(h)\n",
    "#hopt=0\n",
    "#CVstock2=zeros(tailleh)\n",
    "#for i in range(tailleh):\n",
    " #   CVstock2[i]=CVgauss(h[i],X)\n",
    "  #  print(\"Cv(h)=\",CVstock2[i],\" pour h=\",h[i])\n",
    "#hopt=h[argmin(CVstock2)]\n",
    "#print(\"h optimal=\",hopt)"
   ]
  },
  {
   "cell_type": "markdown",
   "metadata": {},
   "source": [
    "## Exercice 2:"
   ]
  },
  {
   "cell_type": "markdown",
   "metadata": {},
   "source": [
    "Pour cet exercice, nous avons utilisé la base de donnée représentant le salaire médiant des étudiants issus des universités américaines en milieu de carrière. On regardera ces données en milliers de dollars (par exemple 50 correspond à 50000 dollars)\n",
    "Source : https://www.kaggle.com/kmuvunyi/salaries#salaries-by-region.csv"
   ]
  },
  {
   "cell_type": "markdown",
   "metadata": {},
   "source": [
    "On télécharge d'abord le fichier csv et on le stocke dans  une liste grâce au code suivant :"
   ]
  },
  {
   "cell_type": "code",
   "execution_count": 27,
   "metadata": {},
   "outputs": [],
   "source": [
    "Xstock=[]\n",
    "with open('/Users/hajjimohammed/Desktop/salaries-by-region.csv',newline='')as f:\n",
    "    reader= csv.reader(f)\n",
    "    for row in reader:\n",
    "        Xstock.append(row)"
   ]
  },
  {
   "cell_type": "markdown",
   "metadata": {},
   "source": [
    "On retire ensuite la colonne qui nous intéresse (la colonne n°3) privée de l'entête et on la stocke dans la liste \"salairestock\" : "
   ]
  },
  {
   "cell_type": "code",
   "execution_count": 28,
   "metadata": {},
   "outputs": [],
   "source": [
    "salaires = [i[3] for i in Xstock]\n",
    "nbligne=len(salaires)\n",
    "salairestock=salaires[1:nbligne].copy()"
   ]
  },
  {
   "cell_type": "code",
   "execution_count": 29,
   "metadata": {},
   "outputs": [],
   "source": [
    "salairestock=array(salairestock).astype(float)/1000"
   ]
  },
  {
   "cell_type": "code",
   "execution_count": 30,
   "metadata": {},
   "outputs": [
    {
     "data": {
      "image/png": "[encoded data removed]",
      "text/plain": [
       "<Figure size 432x288 with 1 Axes>"
      ]
     },
     "metadata": {
      "needs_background": "light"
     },
     "output_type": "display_data"
    }
   ],
   "source": [
    "plt.hist(salairestock,color='royalblue',edgecolor='black')\n",
    "plt.show()"
   ]
  },
  {
   "cell_type": "code",
   "execution_count": 31,
   "metadata": {},
   "outputs": [],
   "source": [
    "minsalaire=amin(salairestock)\n",
    "maxsalaire=amax(salairestock)\n",
    "taillesalaire=1000\n",
    "x=linspace(minsalaire,maxsalaire,taillesalaire)\n",
    "h=6"
   ]
  },
  {
   "cell_type": "code",
   "execution_count": 32,
   "metadata": {},
   "outputs": [],
   "source": [
    "fsalaries=[frectchap(salairestock,i,h) for i in x]"
   ]
  },
  {
   "cell_type": "code",
   "execution_count": 33,
   "metadata": {},
   "outputs": [
    {
     "data": {
      "image/png": "[encoded data removed]",
      "text/plain": [
       "<Figure size 432x288 with 1 Axes>"
      ]
     },
     "metadata": {
      "needs_background": "light"
     },
     "output_type": "display_data"
    }
   ],
   "source": [
    "plt.plot(fsalaries)\n",
    "plt.show()"
   ]
  },
  {
   "cell_type": "code",
   "execution_count": 34,
   "metadata": {
    "scrolled": true
   },
   "outputs": [
    {
     "name": "stdout",
     "output_type": "stream",
     "text": [
      "Cv(h)= -0.01999259822109281  pour h= 8.0\n",
      "Cv(h)= -0.01976696678852819  pour h= 8.05\n",
      "Cv(h)= -0.01980095494641152  pour h= 8.100000000000001\n",
      "Cv(h)= -0.019786657011113342  pour h= 8.150000000000002\n",
      "Cv(h)= -0.020024084155000628  pour h= 8.200000000000003\n",
      "Cv(h)= -0.019811003179954836  pour h= 8.250000000000004\n",
      "Cv(h)= -0.019940540274917755  pour h= 8.300000000000004\n",
      "Cv(h)= -0.019814691476667274  pour h= 8.350000000000005\n",
      "Cv(h)= -0.019981265317625473  pour h= 8.400000000000006\n",
      "Cv(h)= -0.019766875390262985  pour h= 8.450000000000006\n",
      "Cv(h)= -0.01988273585971781  pour h= 8.500000000000007\n",
      "Cv(h)= -0.019669633403737116  pour h= 8.550000000000008\n",
      "Cv(h)= -0.019842254023325172  pour h= 8.600000000000009\n",
      "Cv(h)= -0.01962931401408151  pour h= 8.65000000000001\n",
      "Cv(h)= -0.01982023939672391  pour h= 8.70000000000001\n",
      "Cv(h)= -0.019622574678151018  pour h= 8.75000000000001\n",
      "Cv(h)= -0.019803439052282667  pour h= 8.800000000000011\n",
      "Cv(h)= -0.01960130000066347  pour h= 8.850000000000012\n",
      "Cv(h)= -0.019802409098043837  pour h= 8.900000000000013\n",
      "Cv(h)= -0.01960046406971378  pour h= 8.950000000000014\n",
      "h optimal= 8.200000000000003\n"
     ]
    }
   ],
   "source": [
    "pash=0.05\n",
    "h=arange(8,9,pash)\n",
    "tailleh=size(h)\n",
    "hopt=0\n",
    "CVstocksal=zeros(tailleh)\n",
    "for i in range(tailleh):\n",
    "    CVstocksal[i]=CVrect(h[i],salairestock)\n",
    "    print(\"Cv(h)=\",CVstocksal[i],\" pour h=\",h[i])\n",
    "hopt=h[argmin(CVstocksal)]\n",
    "print(\"h optimal=\",hopt)"
   ]
  },
  {
   "cell_type": "code",
   "execution_count": 35,
   "metadata": {},
   "outputs": [
    {
     "data": {
      "text/plain": [
       "[<matplotlib.lines.Line2D at 0x113bea7f0>]"
      ]
     },
     "execution_count": 35,
     "metadata": {},
     "output_type": "execute_result"
    },
    {
     "data": {
      "image/png": "[encoded data removed]",
      "text/plain": [
       "<Figure size 432x288 with 1 Axes>"
      ]
     },
     "metadata": {
      "needs_background": "light"
     },
     "output_type": "display_data"
    }
   ],
   "source": [
    "plt.plot(CVstocksal)"
   ]
  },
  {
   "cell_type": "code",
   "execution_count": null,
   "metadata": {
    "collapsed": true
   },
   "outputs": [],
   "source": []
  }
 ],
 "metadata": {
  "kernelspec": {
   "display_name": "Python 3",
   "language": "python",
   "name": "python3"
  },
  "language_info": {
   "codemirror_mode": {
    "name": "ipython",
    "version": 3
   },
   "file_extension": ".py",
   "mimetype": "text/x-python",
   "name": "python",
   "nbconvert_exporter": "python",
   "pygments_lexer": "ipython3",
   "version": "3.7.0"
  }
 },
 "nbformat": 4,
 "nbformat_minor": 2
}
